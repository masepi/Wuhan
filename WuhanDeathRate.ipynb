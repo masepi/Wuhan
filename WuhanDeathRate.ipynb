{
  "nbformat": 4,
  "nbformat_minor": 0,
  "metadata": {
    "colab": {
      "name": "WuhanDeathRate.ipynb",
      "provenance": [],
      "collapsed_sections": [],
      "authorship_tag": "ABX9TyPVvq5ERIPoRMvbWc8ap836",
      "include_colab_link": true
    },
    "kernelspec": {
      "name": "python3",
      "display_name": "Python 3"
    }
  },
  "cells": [
    {
      "cell_type": "markdown",
      "metadata": {
        "id": "view-in-github",
        "colab_type": "text"
      },
      "source": [
        "<a href=\"https://colab.research.google.com/github/masepi/Wuhan/blob/master/WuhanDeathRate.ipynb\" target=\"_parent\"><img src=\"https://colab.research.google.com/assets/colab-badge.svg\" alt=\"Open In Colab\"/></a>"
      ]
    },
    {
      "cell_type": "code",
      "metadata": {
        "id": "iUowwxDxDbkB",
        "colab_type": "code",
        "colab": {}
      },
      "source": [
        "import numpy as np\n",
        "import matplotlib.pyplot as plt\n",
        "import math\n",
        "from scipy.optimize import differential_evolution\n"
      ],
      "execution_count": 0,
      "outputs": []
    },
    {
      "cell_type": "markdown",
      "metadata": {
        "id": "Nb-I0a5hD-zo",
        "colab_type": "text"
      },
      "source": [
        "Статистика по дням:"
      ]
    },
    {
      "cell_type": "code",
      "metadata": {
        "id": "fdFPNvabDt6Q",
        "colab_type": "code",
        "colab": {}
      },
      "source": [
        "new_incidents = np.array([40, 4, 17, 59, 77, 93, 149, 131, 259, 457, 688, 769, 1771, 1459, 1737, 1981, 2099, 2589, 2825, 3235, 3884, 3694, 3143, 3385, 2652, 2973, 2467, 2015, 15151, 4047, 2641, 2008, 2048, 1888, 1749 ], dtype=np.float)\n",
        "deahts_cummulative = np.array([1, 2, 2, 3, 3, 6, 9, 17, 25, 41, 56, 80, 106, 132, 170, 213, 259, 304, 361, 425, 490, 563, 637, 722, 811, 908, 1016, 1113, 1259, 1380, 1523, 1665, 1770, 1868, 2004 ], dtype=np.float)\n",
        "assert len(new_incidents) == len(deahts_cummulative)\n",
        "days_count = len(new_incidents)"
      ],
      "execution_count": 0,
      "outputs": []
    },
    {
      "cell_type": "code",
      "metadata": {
        "id": "fMbDoU5CEGCo",
        "colab_type": "code",
        "outputId": "4059825d-9247-458b-c6cc-e02607ec5599",
        "colab": {
          "base_uri": "https://localhost:8080/",
          "height": 281
        }
      },
      "source": [
        "plt.subplot(121)\n",
        "plt.title('New incidents')\n",
        "plt.plot(new_incidents)\n",
        "plt.grid(True)\n",
        "\n",
        "plt.subplot(122)\n",
        "plt.title('Deaths cummulative')\n",
        "plt.plot(deahts_cummulative)\n",
        "plt.grid(True)"
      ],
      "execution_count": 0,
      "outputs": [
        {
          "output_type": "display_data",
          "data": {
            "image/png": "[encoded data removed]",
            "text/plain": [
              "<Figure size 432x288 with 2 Axes>"
            ]
          },
          "metadata": {
            "tags": []
          }
        }
      ]
    },
    {
      "cell_type": "markdown",
      "metadata": {
        "id": "iGB5hucLFTGY",
        "colab_type": "text"
      },
      "source": [
        "Суммарное количество смертей на день N вычисляется по формуле:\n",
        "\n",
        "![alt text](http://latex2png.com/pngs/fc8f410d87ea3ec381353e4f8ae94c79.png)\n",
        "\n",
        "Здесь N<sub>d</sub> - число новых случаев на день d, D<sub>i</sub> - средняя ожидаемая доля умерших от заболевших на i день болезни. \n",
        "D<sub>i</sub> - **неубывающая функция**, имеющая своим пределом смертность.\n",
        "\n",
        "Это выражение должно быть верно на каждый день N, поэтому имеем N + 1 уравнение,\n",
        "или в матричном виде:\n",
        "\n",
        "![alt text](http://latex2png.com/pngs/2afa1ad324b4e087d426ca7fc9b1f29f.png)\n",
        "\n",
        "Где,\n",
        "\n",
        "![alt text](http://latex2png.com/pngs/d1eb7f1eb65dce68990d83652d97a0dc.png)\n",
        "\n",
        "![alt text](http://latex2png.com/pngs/4b9cab3092df722b6e397d20752bd53b.png)    "
      ]
    },
    {
      "cell_type": "code",
      "metadata": {
        "id": "5hPH44hTFFW5",
        "colab_type": "code",
        "outputId": "935bca32-a6ee-4341-b3c2-9427b3955144",
        "colab": {
          "base_uri": "https://localhost:8080/",
          "height": 156
        }
      },
      "source": [
        "N_matrix = np.zeros((days_count, days_count), dtype=np.float)\n",
        "for i in range(0, days_count):\n",
        "    for j in range(0, i+1):\n",
        "        N_matrix[i, j] = new_incidents[i-j]\n",
        "\n",
        "print('shape=', N_matrix.shape)\n",
        "print(N_matrix)\n"
      ],
      "execution_count": 0,
      "outputs": [
        {
          "output_type": "stream",
          "text": [
            "shape= (35, 35)\n",
            "[[  40.    0.    0. ...    0.    0.    0.]\n",
            " [   4.   40.    0. ...    0.    0.    0.]\n",
            " [  17.    4.   40. ...    0.    0.    0.]\n",
            " ...\n",
            " [2048. 2008. 2641. ...   40.    0.    0.]\n",
            " [1888. 2048. 2008. ...    4.   40.    0.]\n",
            " [1749. 1888. 2048. ...   17.    4.   40.]]\n"
          ],
          "name": "stdout"
        }
      ]
    },
    {
      "cell_type": "markdown",
      "metadata": {
        "id": "FqD46PSyNmpU",
        "colab_type": "text"
      },
      "source": [
        "Мы хотим найти вектор D по известным N<sub>matrix</sub> и D<sub>cummulative</sub>\n",
        "\n",
        "Проблема в том, что данным содержам в себе ошибки, а уравнение верно только при статистическом усреднении. К тому же D - неубывающая величина.\n",
        "\n",
        "Поэтому решать будем дифференциальной эволюцией.\n"
      ]
    },
    {
      "cell_type": "code",
      "metadata": {
        "id": "OM5z_j_eONB1",
        "colab_type": "code",
        "colab": {}
      },
      "source": [
        "# Метод вычисляем вектор D по параметрам дифф. эволюции\n",
        "# Ищем ввиде неубывающей функции\n",
        "def produce_D(evol_params):\n",
        "    death_rate = evol_params[-1] # в последнем параметр лежит death_rate\n",
        "    evol_params_coeffs = np.array(evol_params[0:len(evol_params)-1])\n",
        "    d_sum = sum(evol_params_coeffs)\n",
        "    evol_params_coeffs = evol_params_coeffs / d_sum * death_rate\n",
        "    D = [0]\n",
        "    for i in range(len(evol_params_coeffs)):\n",
        "        D.append( D[-1] + evol_params_coeffs[i] )\n",
        "    return D\n",
        "\n",
        "# Функция ошибок, которую минимизируем - средняя предсказаний смертей по дням.\n",
        "def dif_evol_error(evol_params):\n",
        "    D = produce_D(evol_params)\n",
        "\n",
        "    deaths = np.dot(N_matrix, D)\n",
        "    error = np.sum(np.abs(deaths-deahts_cummulative))/days_count\n",
        "    return error\n",
        "\n",
        "callback_iter = 0\n",
        "def callback(xk, convergence):\n",
        "    global callback_iter\n",
        "    error = dif_evol_error(xk)\n",
        "    if callback_iter % 20 == 0:\n",
        "      print(callback_iter, 'death_rate=', xk[-1], 'error=', error)\n",
        "    callback_iter += 1\n",
        "\n",
        "\n",
        "# Границы параметров дифф. эволюции\n",
        "bound = [(0, 1)] * days_count\n"
      ],
      "execution_count": 0,
      "outputs": []
    },
    {
      "cell_type": "code",
      "metadata": {
        "id": "HmhujE_ZPZt9",
        "colab_type": "code",
        "outputId": "5168906f-59c5-4cc6-eba4-49f3faf6a304",
        "colab": {
          "base_uri": "https://localhost:8080/",
          "height": 191
        }
      },
      "source": [
        "callback_iter = 0\n",
        "evol_params_solution = differential_evolution(dif_evol_error, bounds=bound, maxiter=200, callback=callback, popsize=40, strategy='best2bin')\n",
        "\n"
      ],
      "execution_count": 0,
      "outputs": [
        {
          "output_type": "stream",
          "text": [
            "0 death_rate= 0.09191510301499134 error= 80.44099774278591\n",
            "20 death_rate= 0.09644332171588665 error= 63.015177968993015\n",
            "40 death_rate= 0.08978552399243023 error= 55.88959451955081\n",
            "60 death_rate= 0.07678959878107561 error= 50.969989143948546\n",
            "80 death_rate= 0.07678959878107561 error= 50.969989143948546\n",
            "100 death_rate= 0.07776748176185716 error= 47.64455621404114\n",
            "120 death_rate= 0.07776748176185716 error= 47.64455621404114\n",
            "140 death_rate= 0.07776748176185716 error= 47.64455621404114\n",
            "160 death_rate= 0.08751422321778479 error= 43.71768876830244\n",
            "180 death_rate= 0.08751422321778479 error= 43.71768876830244\n"
          ],
          "name": "stdout"
        }
      ]
    },
    {
      "cell_type": "markdown",
      "metadata": {
        "id": "1G59St-cWgdY",
        "colab_type": "text"
      },
      "source": [
        "Выводим результаты и сравниваем расчетное число смертей с настоящим"
      ]
    },
    {
      "cell_type": "code",
      "metadata": {
        "id": "MILtKYBvSPAN",
        "colab_type": "code",
        "outputId": "89273962-92f0-4f20-efd8-6722aece9336",
        "colab": {
          "base_uri": "https://localhost:8080/",
          "height": 353
        }
      },
      "source": [
        "evol_params = evol_params_solution.x\n",
        "\n",
        "print('Total death rate=', evol_params[-1])\n",
        "print('error=', dif_evol_error(evol_params))\n",
        "d = produce_D(evol_params)\n",
        "print('D=', d)\n",
        "deahts_cummulative_predicted = np.dot(N_matrix, d)\n",
        "\n",
        "plt.title('Deaths cummulative calculated vs real')\n",
        "plt.plot(deahts_cummulative_predicted)\n",
        "plt.plot(deahts_cummulative)\n",
        "plt.show()\n"
      ],
      "execution_count": 63,
      "outputs": [
        {
          "output_type": "stream",
          "text": [
            "Total death rate= 0.08559453013898169\n",
            "error= 29.226371588449503\n",
            "D= [0, 0.007874671073758811, 0.015266371443511307, 0.02108205647801225, 0.02611515301570752, 0.02794785687012589, 0.02794785687012589, 0.02794785687012589, 0.02794785687012589, 0.02794785687012589, 0.02794785687012589, 0.02794785687012589, 0.02794785687012589, 0.02794785687012589, 0.02794785687012589, 0.02794785687012589, 0.02794785687012589, 0.02794785687012589, 0.028118483286443955, 0.028118483286443955, 0.028118483286443955, 0.029036769975778323, 0.033473404992525914, 0.03653000795216061, 0.04082175854842523, 0.04348582092320694, 0.051360491996965754, 0.052936872627830284, 0.05804164674427753, 0.06591631781803634, 0.07254824129655307, 0.07764774264771654, 0.08190209550829008, 0.08464824990180356, 0.08559453013898169]\n"
          ],
          "name": "stdout"
        },
        {
          "output_type": "display_data",
          "data": {
            "image/png": "[encoded data removed]",
            "text/plain": [
              "<Figure size 432x288 with 1 Axes>"
            ]
          },
          "metadata": {
            "tags": []
          }
        }
      ]
    }
  ]
}